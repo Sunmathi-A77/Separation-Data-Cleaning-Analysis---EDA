{
  "cells": [
    {
      "cell_type": "markdown",
      "metadata": {
        "id": "5cQb9WBr-V3L"
      },
      "source": [
        "Task - 4  Separation Data Cleaning & Analysis"
      ]
    },
    {
      "cell_type": "code",
      "execution_count": null,
      "metadata": {
        "id": "AgpMe5Um-Mat"
      },
      "outputs": [],
      "source": [
        "import pandas as pd\n",
        "import numpy as np\n",
        "import matplotlib.pyplot as plt"
      ]
    },
    {
      "cell_type": "markdown",
      "metadata": {
        "id": "mHn8Y1D2_GoV"
      },
      "source": [
        "Part 1 – Basic Data Understanding (Pandas)"
      ]
    },
    {
      "cell_type": "code",
      "execution_count": null,
      "metadata": {
        "colab": {
          "base_uri": "https://localhost:8080/",
          "height": 363
        },
        "id": "5Ogv7AxV_IiQ",
        "outputId": "6481a8e3-7123-44c6-94a0-aee0c2ca7087"
      },
      "outputs": [
        {
          "data": {
            "application/vnd.google.colaboratory.intrinsic+json": {
              "summary": "{\n  \"name\": \"df\",\n  \"rows\": 100,\n  \"fields\": [\n    {\n      \"column\": \"id\",\n      \"properties\": {\n        \"dtype\": \"string\",\n        \"num_unique_values\": 100,\n        \"samples\": [\n          \"58223Sophia\",\n          \"66314George\",\n          \"25194Victor\"\n        ],\n        \"semantic_type\": \"\",\n        \"description\": \"\"\n      }\n    },\n    {\n      \"column\": \"ID\",\n      \"properties\": {\n        \"dtype\": \"number\",\n        \"std\": 26500,\n        \"min\": 11314,\n        \"max\": 95807,\n        \"num_unique_values\": 100,\n        \"samples\": [\n          58223,\n          66314,\n          25194\n        ],\n        \"semantic_type\": \"\",\n        \"description\": \"\"\n      }\n    },\n    {\n      \"column\": \"First_Name\",\n      \"properties\": {\n        \"dtype\": \"category\",\n        \"num_unique_values\": 28,\n        \"samples\": [\n          \"Sophia\",\n          \"Victor\",\n          \"Fiona\"\n        ],\n        \"semantic_type\": \"\",\n        \"description\": \"\"\n      }\n    }\n  ]\n}",
              "type": "dataframe",
              "variable_name": "df"
            },
            "text/html": [
              "\n",
              "  <div id=\"df-f2bf4b0b-ded6-4507-9ec2-290a23ba9db5\" class=\"colab-df-container\">\n",
              "    <div>\n",
              "<style scoped>\n",
              "    .dataframe tbody tr th:only-of-type {\n",
              "        vertical-align: middle;\n",
              "    }\n",
              "\n",
              "    .dataframe tbody tr th {\n",
              "        vertical-align: top;\n",
              "    }\n",
              "\n",
              "    .dataframe thead th {\n",
              "        text-align: right;\n",
              "    }\n",
              "</style>\n",
              "<table border=\"1\" class=\"dataframe\">\n",
              "  <thead>\n",
              "    <tr style=\"text-align: right;\">\n",
              "      <th></th>\n",
              "      <th>id</th>\n",
              "      <th>ID</th>\n",
              "      <th>First_Name</th>\n",
              "    </tr>\n",
              "  </thead>\n",
              "  <tbody>\n",
              "    <tr>\n",
              "      <th>0</th>\n",
              "      <td>12345Johnny</td>\n",
              "      <td>12345</td>\n",
              "      <td>Johnny</td>\n",
              "    </tr>\n",
              "    <tr>\n",
              "      <th>1</th>\n",
              "      <td>93829Sally</td>\n",
              "      <td>93829</td>\n",
              "      <td>Sally</td>\n",
              "    </tr>\n",
              "    <tr>\n",
              "      <th>2</th>\n",
              "      <td>20391Larry</td>\n",
              "      <td>20391</td>\n",
              "      <td>Larry</td>\n",
              "    </tr>\n",
              "    <tr>\n",
              "      <th>3</th>\n",
              "      <td>29324Valerie</td>\n",
              "      <td>29324</td>\n",
              "      <td>Valerie</td>\n",
              "    </tr>\n",
              "    <tr>\n",
              "      <th>4</th>\n",
              "      <td>43557Nina</td>\n",
              "      <td>43557</td>\n",
              "      <td>Nina</td>\n",
              "    </tr>\n",
              "    <tr>\n",
              "      <th>5</th>\n",
              "      <td>55027Bob</td>\n",
              "      <td>55027</td>\n",
              "      <td>Bob</td>\n",
              "    </tr>\n",
              "    <tr>\n",
              "      <th>6</th>\n",
              "      <td>78551Julia</td>\n",
              "      <td>78551</td>\n",
              "      <td>Julia</td>\n",
              "    </tr>\n",
              "    <tr>\n",
              "      <th>7</th>\n",
              "      <td>77268Nina</td>\n",
              "      <td>77268</td>\n",
              "      <td>Nina</td>\n",
              "    </tr>\n",
              "    <tr>\n",
              "      <th>8</th>\n",
              "      <td>19876Xander</td>\n",
              "      <td>19876</td>\n",
              "      <td>Xander</td>\n",
              "    </tr>\n",
              "    <tr>\n",
              "      <th>9</th>\n",
              "      <td>28290Fiona</td>\n",
              "      <td>28290</td>\n",
              "      <td>Fiona</td>\n",
              "    </tr>\n",
              "  </tbody>\n",
              "</table>\n",
              "</div>\n",
              "    <div class=\"colab-df-buttons\">\n",
              "\n",
              "  <div class=\"colab-df-container\">\n",
              "    <button class=\"colab-df-convert\" onclick=\"convertToInteractive('df-f2bf4b0b-ded6-4507-9ec2-290a23ba9db5')\"\n",
              "            title=\"Convert this dataframe to an interactive table.\"\n",
              "            style=\"display:none;\">\n",
              "\n",
              "  <svg xmlns=\"http://www.w3.org/2000/svg\" height=\"24px\" viewBox=\"0 -960 960 960\">\n",
              "    <path d=\"M120-120v-720h720v720H120Zm60-500h600v-160H180v160Zm220 220h160v-160H400v160Zm0 220h160v-160H400v160ZM180-400h160v-160H180v160Zm440 0h160v-160H620v160ZM180-180h160v-160H180v160Zm440 0h160v-160H620v160Z\"/>\n",
              "  </svg>\n",
              "    </button>\n",
              "\n",
              "  <style>\n",
              "    .colab-df-container {\n",
              "      display:flex;\n",
              "      gap: 12px;\n",
              "    }\n",
              "\n",
              "    .colab-df-convert {\n",
              "      background-color: #E8F0FE;\n",
              "      border: none;\n",
              "      border-radius: 50%;\n",
              "      cursor: pointer;\n",
              "      display: none;\n",
              "      fill: #1967D2;\n",
              "      height: 32px;\n",
              "      padding: 0 0 0 0;\n",
              "      width: 32px;\n",
              "    }\n",
              "\n",
              "    .colab-df-convert:hover {\n",
              "      background-color: #E2EBFA;\n",
              "      box-shadow: 0px 1px 2px rgba(60, 64, 67, 0.3), 0px 1px 3px 1px rgba(60, 64, 67, 0.15);\n",
              "      fill: #174EA6;\n",
              "    }\n",
              "\n",
              "    .colab-df-buttons div {\n",
              "      margin-bottom: 4px;\n",
              "    }\n",
              "\n",
              "    [theme=dark] .colab-df-convert {\n",
              "      background-color: #3B4455;\n",
              "      fill: #D2E3FC;\n",
              "    }\n",
              "\n",
              "    [theme=dark] .colab-df-convert:hover {\n",
              "      background-color: #434B5C;\n",
              "      box-shadow: 0px 1px 3px 1px rgba(0, 0, 0, 0.15);\n",
              "      filter: drop-shadow(0px 1px 2px rgba(0, 0, 0, 0.3));\n",
              "      fill: #FFFFFF;\n",
              "    }\n",
              "  </style>\n",
              "\n",
              "    <script>\n",
              "      const buttonEl =\n",
              "        document.querySelector('#df-f2bf4b0b-ded6-4507-9ec2-290a23ba9db5 button.colab-df-convert');\n",
              "      buttonEl.style.display =\n",
              "        google.colab.kernel.accessAllowed ? 'block' : 'none';\n",
              "\n",
              "      async function convertToInteractive(key) {\n",
              "        const element = document.querySelector('#df-f2bf4b0b-ded6-4507-9ec2-290a23ba9db5');\n",
              "        const dataTable =\n",
              "          await google.colab.kernel.invokeFunction('convertToInteractive',\n",
              "                                                    [key], {});\n",
              "        if (!dataTable) return;\n",
              "\n",
              "        const docLinkHtml = 'Like what you see? Visit the ' +\n",
              "          '<a target=\"_blank\" href=https://colab.research.google.com/notebooks/data_table.ipynb>data table notebook</a>'\n",
              "          + ' to learn more about interactive tables.';\n",
              "        element.innerHTML = '';\n",
              "        dataTable['output_type'] = 'display_data';\n",
              "        await google.colab.output.renderOutput(dataTable, element);\n",
              "        const docLink = document.createElement('div');\n",
              "        docLink.innerHTML = docLinkHtml;\n",
              "        element.appendChild(docLink);\n",
              "      }\n",
              "    </script>\n",
              "  </div>\n",
              "\n",
              "\n",
              "    <div id=\"df-38cdb0c2-021d-4541-9a0a-865b383a3b15\">\n",
              "      <button class=\"colab-df-quickchart\" onclick=\"quickchart('df-38cdb0c2-021d-4541-9a0a-865b383a3b15')\"\n",
              "                title=\"Suggest charts\"\n",
              "                style=\"display:none;\">\n",
              "\n",
              "<svg xmlns=\"http://www.w3.org/2000/svg\" height=\"24px\"viewBox=\"0 0 24 24\"\n",
              "     width=\"24px\">\n",
              "    <g>\n",
              "        <path d=\"M19 3H5c-1.1 0-2 .9-2 2v14c0 1.1.9 2 2 2h14c1.1 0 2-.9 2-2V5c0-1.1-.9-2-2-2zM9 17H7v-7h2v7zm4 0h-2V7h2v10zm4 0h-2v-4h2v4z\"/>\n",
              "    </g>\n",
              "</svg>\n",
              "      </button>\n",
              "\n",
              "<style>\n",
              "  .colab-df-quickchart {\n",
              "      --bg-color: #E8F0FE;\n",
              "      --fill-color: #1967D2;\n",
              "      --hover-bg-color: #E2EBFA;\n",
              "      --hover-fill-color: #174EA6;\n",
              "      --disabled-fill-color: #AAA;\n",
              "      --disabled-bg-color: #DDD;\n",
              "  }\n",
              "\n",
              "  [theme=dark] .colab-df-quickchart {\n",
              "      --bg-color: #3B4455;\n",
              "      --fill-color: #D2E3FC;\n",
              "      --hover-bg-color: #434B5C;\n",
              "      --hover-fill-color: #FFFFFF;\n",
              "      --disabled-bg-color: #3B4455;\n",
              "      --disabled-fill-color: #666;\n",
              "  }\n",
              "\n",
              "  .colab-df-quickchart {\n",
              "    background-color: var(--bg-color);\n",
              "    border: none;\n",
              "    border-radius: 50%;\n",
              "    cursor: pointer;\n",
              "    display: none;\n",
              "    fill: var(--fill-color);\n",
              "    height: 32px;\n",
              "    padding: 0;\n",
              "    width: 32px;\n",
              "  }\n",
              "\n",
              "  .colab-df-quickchart:hover {\n",
              "    background-color: var(--hover-bg-color);\n",
              "    box-shadow: 0 1px 2px rgba(60, 64, 67, 0.3), 0 1px 3px 1px rgba(60, 64, 67, 0.15);\n",
              "    fill: var(--button-hover-fill-color);\n",
              "  }\n",
              "\n",
              "  .colab-df-quickchart-complete:disabled,\n",
              "  .colab-df-quickchart-complete:disabled:hover {\n",
              "    background-color: var(--disabled-bg-color);\n",
              "    fill: var(--disabled-fill-color);\n",
              "    box-shadow: none;\n",
              "  }\n",
              "\n",
              "  .colab-df-spinner {\n",
              "    border: 2px solid var(--fill-color);\n",
              "    border-color: transparent;\n",
              "    border-bottom-color: var(--fill-color);\n",
              "    animation:\n",
              "      spin 1s steps(1) infinite;\n",
              "  }\n",
              "\n",
              "  @keyframes spin {\n",
              "    0% {\n",
              "      border-color: transparent;\n",
              "      border-bottom-color: var(--fill-color);\n",
              "      border-left-color: var(--fill-color);\n",
              "    }\n",
              "    20% {\n",
              "      border-color: transparent;\n",
              "      border-left-color: var(--fill-color);\n",
              "      border-top-color: var(--fill-color);\n",
              "    }\n",
              "    30% {\n",
              "      border-color: transparent;\n",
              "      border-left-color: var(--fill-color);\n",
              "      border-top-color: var(--fill-color);\n",
              "      border-right-color: var(--fill-color);\n",
              "    }\n",
              "    40% {\n",
              "      border-color: transparent;\n",
              "      border-right-color: var(--fill-color);\n",
              "      border-top-color: var(--fill-color);\n",
              "    }\n",
              "    60% {\n",
              "      border-color: transparent;\n",
              "      border-right-color: var(--fill-color);\n",
              "    }\n",
              "    80% {\n",
              "      border-color: transparent;\n",
              "      border-right-color: var(--fill-color);\n",
              "      border-bottom-color: var(--fill-color);\n",
              "    }\n",
              "    90% {\n",
              "      border-color: transparent;\n",
              "      border-bottom-color: var(--fill-color);\n",
              "    }\n",
              "  }\n",
              "</style>\n",
              "\n",
              "      <script>\n",
              "        async function quickchart(key) {\n",
              "          const quickchartButtonEl =\n",
              "            document.querySelector('#' + key + ' button');\n",
              "          quickchartButtonEl.disabled = true;  // To prevent multiple clicks.\n",
              "          quickchartButtonEl.classList.add('colab-df-spinner');\n",
              "          try {\n",
              "            const charts = await google.colab.kernel.invokeFunction(\n",
              "                'suggestCharts', [key], {});\n",
              "          } catch (error) {\n",
              "            console.error('Error during call to suggestCharts:', error);\n",
              "          }\n",
              "          quickchartButtonEl.classList.remove('colab-df-spinner');\n",
              "          quickchartButtonEl.classList.add('colab-df-quickchart-complete');\n",
              "        }\n",
              "        (() => {\n",
              "          let quickchartButtonEl =\n",
              "            document.querySelector('#df-38cdb0c2-021d-4541-9a0a-865b383a3b15 button');\n",
              "          quickchartButtonEl.style.display =\n",
              "            google.colab.kernel.accessAllowed ? 'block' : 'none';\n",
              "        })();\n",
              "      </script>\n",
              "    </div>\n",
              "\n",
              "    </div>\n",
              "  </div>\n"
            ],
            "text/plain": [
              "             id     ID First_Name\n",
              "0   12345Johnny  12345     Johnny\n",
              "1    93829Sally  93829      Sally\n",
              "2    20391Larry  20391      Larry\n",
              "3  29324Valerie  29324    Valerie\n",
              "4     43557Nina  43557       Nina\n",
              "5      55027Bob  55027        Bob\n",
              "6    78551Julia  78551      Julia\n",
              "7     77268Nina  77268       Nina\n",
              "8   19876Xander  19876     Xander\n",
              "9    28290Fiona  28290      Fiona"
            ]
          },
          "execution_count": 3,
          "metadata": {},
          "output_type": "execute_result"
        }
      ],
      "source": [
        "df = pd.read_csv('/content/separated_names.csv')\n",
        "\n",
        "df.head(10)"
      ]
    },
    {
      "cell_type": "code",
      "execution_count": null,
      "metadata": {
        "colab": {
          "base_uri": "https://localhost:8080/"
        },
        "id": "_t-lXGnpAWOX",
        "outputId": "6afc4d8c-d016-4911-e7a3-e128ba4c6429"
      },
      "outputs": [
        {
          "data": {
            "text/plain": [
              "(100, 3)"
            ]
          },
          "execution_count": 4,
          "metadata": {},
          "output_type": "execute_result"
        }
      ],
      "source": [
        "df.shape"
      ]
    },
    {
      "cell_type": "code",
      "execution_count": null,
      "metadata": {
        "colab": {
          "base_uri": "https://localhost:8080/"
        },
        "id": "RgZ7yrMrAV8e",
        "outputId": "3a06efc7-b716-44cc-dcac-a659cf4e8540"
      },
      "outputs": [
        {
          "data": {
            "text/plain": [
              "Index(['id', 'ID', 'First_Name'], dtype='object')"
            ]
          },
          "execution_count": 5,
          "metadata": {},
          "output_type": "execute_result"
        }
      ],
      "source": [
        "df.columns"
      ]
    },
    {
      "cell_type": "code",
      "execution_count": null,
      "metadata": {
        "colab": {
          "base_uri": "https://localhost:8080/",
          "height": 178
        },
        "id": "iMEWGo0kAbUj",
        "outputId": "c2bafdea-6d8c-42dc-fe3b-5f2168e1079d"
      },
      "outputs": [
        {
          "data": {
            "text/html": [
              "<div>\n",
              "<style scoped>\n",
              "    .dataframe tbody tr th:only-of-type {\n",
              "        vertical-align: middle;\n",
              "    }\n",
              "\n",
              "    .dataframe tbody tr th {\n",
              "        vertical-align: top;\n",
              "    }\n",
              "\n",
              "    .dataframe thead th {\n",
              "        text-align: right;\n",
              "    }\n",
              "</style>\n",
              "<table border=\"1\" class=\"dataframe\">\n",
              "  <thead>\n",
              "    <tr style=\"text-align: right;\">\n",
              "      <th></th>\n",
              "      <th>0</th>\n",
              "    </tr>\n",
              "  </thead>\n",
              "  <tbody>\n",
              "    <tr>\n",
              "      <th>id</th>\n",
              "      <td>object</td>\n",
              "    </tr>\n",
              "    <tr>\n",
              "      <th>ID</th>\n",
              "      <td>int64</td>\n",
              "    </tr>\n",
              "    <tr>\n",
              "      <th>First_Name</th>\n",
              "      <td>object</td>\n",
              "    </tr>\n",
              "  </tbody>\n",
              "</table>\n",
              "</div><br><label><b>dtype:</b> object</label>"
            ],
            "text/plain": [
              "id            object\n",
              "ID             int64\n",
              "First_Name    object\n",
              "dtype: object"
            ]
          },
          "execution_count": 6,
          "metadata": {},
          "output_type": "execute_result"
        }
      ],
      "source": [
        "df.dtypes"
      ]
    },
    {
      "cell_type": "code",
      "execution_count": null,
      "metadata": {
        "colab": {
          "base_uri": "https://localhost:8080/",
          "height": 178
        },
        "id": "LXKi4aj_Aj2e",
        "outputId": "aeee1562-8f85-485f-894e-85342c99bd2c"
      },
      "outputs": [
        {
          "data": {
            "text/html": [
              "<div>\n",
              "<style scoped>\n",
              "    .dataframe tbody tr th:only-of-type {\n",
              "        vertical-align: middle;\n",
              "    }\n",
              "\n",
              "    .dataframe tbody tr th {\n",
              "        vertical-align: top;\n",
              "    }\n",
              "\n",
              "    .dataframe thead th {\n",
              "        text-align: right;\n",
              "    }\n",
              "</style>\n",
              "<table border=\"1\" class=\"dataframe\">\n",
              "  <thead>\n",
              "    <tr style=\"text-align: right;\">\n",
              "      <th></th>\n",
              "      <th>0</th>\n",
              "    </tr>\n",
              "  </thead>\n",
              "  <tbody>\n",
              "    <tr>\n",
              "      <th>id</th>\n",
              "      <td>0</td>\n",
              "    </tr>\n",
              "    <tr>\n",
              "      <th>ID</th>\n",
              "      <td>0</td>\n",
              "    </tr>\n",
              "    <tr>\n",
              "      <th>First_Name</th>\n",
              "      <td>0</td>\n",
              "    </tr>\n",
              "  </tbody>\n",
              "</table>\n",
              "</div><br><label><b>dtype:</b> int64</label>"
            ],
            "text/plain": [
              "id            0\n",
              "ID            0\n",
              "First_Name    0\n",
              "dtype: int64"
            ]
          },
          "execution_count": 7,
          "metadata": {},
          "output_type": "execute_result"
        }
      ],
      "source": [
        "df.isnull().sum()"
      ]
    },
    {
      "cell_type": "code",
      "execution_count": null,
      "metadata": {
        "colab": {
          "base_uri": "https://localhost:8080/"
        },
        "id": "ruGakswrApcZ",
        "outputId": "099880e9-772b-41b7-819f-19f14098a5a4"
      },
      "outputs": [
        {
          "data": {
            "text/plain": [
              "np.int64(0)"
            ]
          },
          "execution_count": 8,
          "metadata": {},
          "output_type": "execute_result"
        }
      ],
      "source": [
        "df.duplicated().sum()"
      ]
    },
    {
      "cell_type": "code",
      "execution_count": null,
      "metadata": {
        "colab": {
          "base_uri": "https://localhost:8080/",
          "height": 335
        },
        "id": "gQvzOazIAybr",
        "outputId": "36ea7300-ca97-47f4-9dc7-a3af7843f76e"
      },
      "outputs": [
        {
          "data": {
            "text/html": [
              "<div>\n",
              "<style scoped>\n",
              "    .dataframe tbody tr th:only-of-type {\n",
              "        vertical-align: middle;\n",
              "    }\n",
              "\n",
              "    .dataframe tbody tr th {\n",
              "        vertical-align: top;\n",
              "    }\n",
              "\n",
              "    .dataframe thead th {\n",
              "        text-align: right;\n",
              "    }\n",
              "</style>\n",
              "<table border=\"1\" class=\"dataframe\">\n",
              "  <thead>\n",
              "    <tr style=\"text-align: right;\">\n",
              "      <th></th>\n",
              "      <th>ID</th>\n",
              "    </tr>\n",
              "  </thead>\n",
              "  <tbody>\n",
              "    <tr>\n",
              "      <th>count</th>\n",
              "      <td>100.000000</td>\n",
              "    </tr>\n",
              "    <tr>\n",
              "      <th>mean</th>\n",
              "      <td>50694.190000</td>\n",
              "    </tr>\n",
              "    <tr>\n",
              "      <th>std</th>\n",
              "      <td>26500.870402</td>\n",
              "    </tr>\n",
              "    <tr>\n",
              "      <th>min</th>\n",
              "      <td>11314.000000</td>\n",
              "    </tr>\n",
              "    <tr>\n",
              "      <th>25%</th>\n",
              "      <td>26643.500000</td>\n",
              "    </tr>\n",
              "    <tr>\n",
              "      <th>50%</th>\n",
              "      <td>44728.000000</td>\n",
              "    </tr>\n",
              "    <tr>\n",
              "      <th>75%</th>\n",
              "      <td>74815.000000</td>\n",
              "    </tr>\n",
              "    <tr>\n",
              "      <th>max</th>\n",
              "      <td>95807.000000</td>\n",
              "    </tr>\n",
              "  </tbody>\n",
              "</table>\n",
              "</div><br><label><b>dtype:</b> float64</label>"
            ],
            "text/plain": [
              "count      100.000000\n",
              "mean     50694.190000\n",
              "std      26500.870402\n",
              "min      11314.000000\n",
              "25%      26643.500000\n",
              "50%      44728.000000\n",
              "75%      74815.000000\n",
              "max      95807.000000\n",
              "Name: ID, dtype: float64"
            ]
          },
          "execution_count": 9,
          "metadata": {},
          "output_type": "execute_result"
        }
      ],
      "source": [
        "df['ID'].describe()"
      ]
    },
    {
      "cell_type": "code",
      "execution_count": null,
      "metadata": {
        "colab": {
          "base_uri": "https://localhost:8080/",
          "height": 209
        },
        "id": "A9l4_jsZA9oz",
        "outputId": "6ae07967-028e-4c02-cfe8-7b343d123ced"
      },
      "outputs": [
        {
          "data": {
            "text/html": [
              "<div>\n",
              "<style scoped>\n",
              "    .dataframe tbody tr th:only-of-type {\n",
              "        vertical-align: middle;\n",
              "    }\n",
              "\n",
              "    .dataframe tbody tr th {\n",
              "        vertical-align: top;\n",
              "    }\n",
              "\n",
              "    .dataframe thead th {\n",
              "        text-align: right;\n",
              "    }\n",
              "</style>\n",
              "<table border=\"1\" class=\"dataframe\">\n",
              "  <thead>\n",
              "    <tr style=\"text-align: right;\">\n",
              "      <th></th>\n",
              "      <th>First_Name</th>\n",
              "    </tr>\n",
              "  </thead>\n",
              "  <tbody>\n",
              "    <tr>\n",
              "      <th>count</th>\n",
              "      <td>100</td>\n",
              "    </tr>\n",
              "    <tr>\n",
              "      <th>unique</th>\n",
              "      <td>28</td>\n",
              "    </tr>\n",
              "    <tr>\n",
              "      <th>top</th>\n",
              "      <td>Sophia</td>\n",
              "    </tr>\n",
              "    <tr>\n",
              "      <th>freq</th>\n",
              "      <td>8</td>\n",
              "    </tr>\n",
              "  </tbody>\n",
              "</table>\n",
              "</div><br><label><b>dtype:</b> object</label>"
            ],
            "text/plain": [
              "count        100\n",
              "unique        28\n",
              "top       Sophia\n",
              "freq           8\n",
              "Name: First_Name, dtype: object"
            ]
          },
          "execution_count": 10,
          "metadata": {},
          "output_type": "execute_result"
        }
      ],
      "source": [
        "df['First_Name'].describe()"
      ]
    },
    {
      "cell_type": "markdown",
      "metadata": {
        "id": "lTFFaa0ABQOw"
      },
      "source": [
        "Part 2 – Data Cleaning"
      ]
    },
    {
      "cell_type": "code",
      "execution_count": null,
      "metadata": {
        "colab": {
          "base_uri": "https://localhost:8080/"
        },
        "id": "Uy57RJYqBSgI",
        "outputId": "f5cb96fc-9714-4f00-c30d-321565417027"
      },
      "outputs": [
        {
          "name": "stdout",
          "output_type": "stream",
          "text": [
            "True\n"
          ]
        }
      ],
      "source": [
        "df['ID'] = df['id'].str[:5].astype(int)\n",
        "df['First_Name'] = df['id'].str[5:]\n",
        "\n",
        "df['First_Name'] = df['First_Name'].str.strip().str.title()\n",
        "\n",
        "print(df['ID'].is_unique)"
      ]
    },
    {
      "cell_type": "markdown",
      "metadata": {
        "id": "DBpuqZreDmQn"
      },
      "source": [
        "Part 3 – Exploratory Data Analysis (EDA)"
      ]
    },
    {
      "cell_type": "code",
      "execution_count": null,
      "metadata": {
        "colab": {
          "base_uri": "https://localhost:8080/",
          "height": 771
        },
        "id": "RmEfo36eDq9z",
        "outputId": "a37a5683-ab8e-4a62-9056-aa311dfe6de7"
      },
      "outputs": [
        {
          "name": "stdout",
          "output_type": "stream",
          "text": [
            "0    Sophia\n",
            "Name: First_Name, dtype: object\n",
            "28\n",
            "31    95807\n",
            "98    94063\n",
            "1     93829\n",
            "32    92910\n",
            "84    92725\n",
            "Name: ID, dtype: int64\n",
            "11    11314\n",
            "0     12345\n",
            "97    12962\n",
            "52    13595\n",
            "27    14287\n",
            "Name: ID, dtype: int64\n"
          ]
        },
        {
          "data": {
            "image/png": "[encoded data removed]",
            "text/plain": [
              "<Figure size 640x480 with 1 Axes>"
            ]
          },
          "metadata": {},
          "output_type": "display_data"
        }
      ],
      "source": [
        "print(df['First_Name'].mode())\n",
        "\n",
        "print(df['First_Name'].nunique())\n",
        "\n",
        "print(df['ID'].nlargest(5))\n",
        "\n",
        "print(df['ID'].nsmallest(5))\n",
        "\n",
        "df['First_Name'].value_counts().head(10).plot(kind='bar')\n",
        "plt.xlabel('First Name')\n",
        "plt.ylabel('Count')\n",
        "plt.title('Top 10 First Names')\n",
        "plt.show()"
      ]
    },
    {
      "cell_type": "markdown",
      "metadata": {
        "id": "4_-82J9EFL_p"
      },
      "source": [
        "Part 4 – Statistics"
      ]
    },
    {
      "cell_type": "code",
      "execution_count": null,
      "metadata": {
        "colab": {
          "base_uri": "https://localhost:8080/"
        },
        "id": "dVc_IJCgFOF6",
        "outputId": "01e486a6-d7cc-4650-eaca-9e7891f75ed3"
      },
      "outputs": [
        {
          "name": "stdout",
          "output_type": "stream",
          "text": [
            "Mean :  50694.19\n",
            "Median :  44728.0\n",
            "Variance :  702296132.0746464\n",
            "Standard Deviation :  26500.87040220842\n",
            "P(ID > 50000):  0.45\n",
            "P(Name starts with A):  0.04\n",
            "percentage of Names > 5 letters:  33.0\n"
          ]
        }
      ],
      "source": [
        "print(\"Mean : \",df['ID'].mean())\n",
        "\n",
        "print(\"Median : \",df['ID'].median())\n",
        "\n",
        "print(\"Variance : \",df['ID'].var())\n",
        "\n",
        "print(\"Standard Deviation : \",df['ID'].std())\n",
        "\n",
        "print(\"P(ID > 50000): \", (df['ID'] > 50000).mean())\n",
        "\n",
        "print(\"P(Name starts with A): \", df['First_Name'].str.startswith(\"A\").mean())\n",
        "\n",
        "print(\"percentage of Names > 5 letters: \", (df['First_Name'].str.len() > 5).mean() * 100)"
      ]
    },
    {
      "cell_type": "markdown",
      "metadata": {
        "id": "j77hNCiFGeRt"
      },
      "source": [
        "Part 5 – Linear Algebra & NumPy"
      ]
    },
    {
      "cell_type": "code",
      "execution_count": null,
      "metadata": {
        "colab": {
          "base_uri": "https://localhost:8080/"
        },
        "id": "bg5O07NnGgTY",
        "outputId": "9a6e6dab-707b-496d-9a3b-46f7e7a35734"
      },
      "outputs": [
        {
          "name": "stdout",
          "output_type": "stream",
          "text": [
            "Addition: [12435 93918 20448 29415 43592 55049 78646 77333 19946 28323 38954 11336\n",
            " 90425 79589 25782 31851 34225 47719 31476 27612 15345 87338 87540 18383\n",
            " 19020 20296 82674 14323 92054 70744 17614 95827 92948 36450 15216 58131\n",
            " 72505 61843 45619 42144 81629 26709 53375 73740 66425 90183 46867 90413\n",
            " 62449 74989 24432 40001 13684 66329 36526 81696 46480 22542 81810 82156\n",
            " 22206 63381 60526 60677 32922 26686 65278 36865 43031 32630 25263 65302\n",
            " 88669 89467 17627 41459 27499 17361 25111 39369 40187 22398 71159 58287\n",
            " 92808 16156 36875 87972 74820 85463 43967 89768 49917 42910 68609 58446\n",
            " 43038 13011 94095 17126]\n",
            "Subtraction: [12255 93740 20334 29233 43522 55005 78456 77203 19806 28257 38828 11292\n",
            " 90287 79555 25646 31777 34043 47589 31412 27440 15233 87296 87410 18277\n",
            " 18974 20186 82670 14251 92028 70698 17454 95787 92872 36262 15036 58033\n",
            " 72393 61717 45447 42126 81457 26581 53203 73564 66303 90013 46773 90333\n",
            " 62279 74833 24428 39911 13506 66299 36522 81628 46336 22400 81750 82102\n",
            " 22164 63239 60332 60497 32726 26592 65238 36807 42909 32492 25125 65222\n",
            " 88485 89465 17493 41317 27425 17285 24923 39205 40113 22286 71031 58159\n",
            " 92642 15990 36849 87794 74746 85427 43879 89620 49903 42752 68419 58330\n",
            " 43014 12913 94031 17084]\n",
            "Dot Product: 271005721\n",
            "Matrix Multiplication Result: [ 3766.5 28211.   6157.2  8860.9 13091.6 16523.5 23631.8 23225.9  6011.8\n",
            "  8510.1 11711.4  3409.6 27155.1 23883.5  7761.8  9570.1 10303.9 14341.7\n",
            "  9455.6  8318.   4625.9 26209.8 26288.   5536.1  5715.2  6110.8 24803.\n",
            "  4311.3 27621.4 21232.4  5316.2 28756.1 27899.6 10972.6  4600.8 17458.9\n",
            " 21773.9 18578.1 13720.1 12646.8 24523.1  8038.3 16046.9 22157.2 19951.9\n",
            " 27088.9 14078.9 27139.9 18768.7 22527.9  7330.4 12018.3  4140.8 19904.7\n",
            " 10958.6 24522.4 13972.8  6791.  24555.  24657.6  6670.2 19042.7 18196.6\n",
            " 18239.1  9915.8  8024.6 19591.4 11071.1 12933.7  9816.6  7606.5 19606.6\n",
            " 26637.5 26840.5  5314.9 12466.1  8264.5  5223.5  7570.9 11843.5 12070.9\n",
            "  6741.8 21373.3 17511.7 27875.6  4880.  11067.7 26427.2 22460.8 25646.1\n",
            " 13207.7 26960.  14977.9 12904.6 20620.7 17557.  12916.2  3922.9 28241.3\n",
            "  5146.2]\n"
          ]
        }
      ],
      "source": [
        "ID_array = df['ID'].to_numpy()\n",
        "\n",
        "score_array = np.random.randint(1, 100, size=len(df))\n",
        "\n",
        "print(\"Addition:\", ID_array + score_array)\n",
        "print(\"Subtraction:\", ID_array - score_array)\n",
        "\n",
        "print(\"Dot Product:\", np.dot(ID_array, score_array))\n",
        "\n",
        "features = np.column_stack((ID_array, score_array))\n",
        "weights = np.array([0.3, 0.7])\n",
        "result = features @ weights\n",
        "print(\"Matrix Multiplication Result:\", result)"
      ]
    },
    {
      "cell_type": "markdown",
      "metadata": {
        "id": "Npr1PtoAKzZd"
      },
      "source": [
        "Part 6 – Feature Engineering"
      ]
    },
    {
      "cell_type": "code",
      "execution_count": null,
      "metadata": {
        "colab": {
          "base_uri": "https://localhost:8080/"
        },
        "id": "fPSqLEbEK1vU",
        "outputId": "63869e23-f202-47ee-fd9f-ecece2412c69"
      },
      "outputs": [
        {
          "name": "stdout",
          "output_type": "stream",
          "text": [
            "0     6\n",
            "1     5\n",
            "2     5\n",
            "3     7\n",
            "4     4\n",
            "     ..\n",
            "95    3\n",
            "96    5\n",
            "97    5\n",
            "98    3\n",
            "99    7\n",
            "Name: Name_Length, Length: 100, dtype: int64\n",
            "0     0\n",
            "1     0\n",
            "2     0\n",
            "3     0\n",
            "4     0\n",
            "     ..\n",
            "95    1\n",
            "96    1\n",
            "97    0\n",
            "98    1\n",
            "99    0\n",
            "Name: Starts_With_Vowel, Length: 100, dtype: int64\n",
            "0     0\n",
            "1     1\n",
            "2     0\n",
            "3     0\n",
            "4     0\n",
            "     ..\n",
            "95    1\n",
            "96    0\n",
            "97    0\n",
            "98    1\n",
            "99    0\n",
            "Name: High_ID, Length: 100, dtype: int64\n",
            "0     1\n",
            "1     0\n",
            "2     0\n",
            "3     2\n",
            "4     0\n",
            "     ..\n",
            "95    0\n",
            "96    0\n",
            "97    0\n",
            "98    0\n",
            "99    2\n",
            "Name: Length_Quartile, Length: 100, dtype: int64\n"
          ]
        }
      ],
      "source": [
        "df['Name_Length'] = df['First_Name'].str.len()\n",
        "print(df['Name_Length'])\n",
        "\n",
        "df['Starts_With_Vowel'] = df['First_Name'].fillna('').str[0].str.upper().isin(['A','E','I','O','U']).astype(int)\n",
        "print(df['Starts_With_Vowel'])\n",
        "\n",
        "df['High_ID'] = (df['ID'] > 50000).astype(int)\n",
        "print(df['High_ID'])\n",
        "\n",
        "df['Length_Quartile'] = pd.qcut(df['Name_Length'], 4, labels=False, duplicates='drop')\n",
        "print(df['Length_Quartile'])"
      ]
    },
    {
      "cell_type": "markdown",
      "metadata": {
        "id": "Kq59z5t9OG9s"
      },
      "source": [
        "Part 7 – SQL Simulation in Pandas"
      ]
    },
    {
      "cell_type": "code",
      "execution_count": null,
      "metadata": {
        "colab": {
          "base_uri": "https://localhost:8080/"
        },
        "id": "Ix2ghMtxOKGU",
        "outputId": "5eee769e-b36e-41f3-acd2-faa5f09660af"
      },
      "outputs": [
        {
          "name": "stdout",
          "output_type": "stream",
          "text": [
            "            id     ID First_Name  Name_Length  Starts_With_Vowel  High_ID  \\\n",
            "35    58082Uma  58082        Uma            3                  1        1   \n",
            "37  61780Ethan  61780      Ethan            5                  1        1   \n",
            "72  88577Ethan  88577      Ethan            5                  1        1   \n",
            "73  89466Ethan  89466      Ethan            5                  1        1   \n",
            "95    58388Ian  58388        Ian            3                  1        1   \n",
            "98    94063Uma  94063        Uma            3                  1        1   \n",
            "\n",
            "    Length_Quartile  \n",
            "35                0  \n",
            "37                0  \n",
            "72                0  \n",
            "73                0  \n",
            "95                0  \n",
            "98                0  \n",
            "       ID First_Name\n",
            "31  95807     Xander\n",
            "98  94063        Uma\n",
            "1   93829      Sally\n",
            "32  92910     Sophia\n",
            "84  92725       Nina\n",
            "28  92041     Sophia\n",
            "47  90373    Michael\n",
            "12  90356      Paula\n",
            "45  90098     Hannah\n",
            "91  89694      Fiona\n",
            "Starts_With_Vowel\n",
            "0    83\n",
            "1    17\n",
            "dtype: int64\n",
            "       ID First_Name  Name_Length\n",
            "99  17105    Charlie            7\n",
            "77  17323    Charlie            7\n",
            "30  17534    Charlie            7\n",
            "3   29324    Valerie            7\n",
            "18  31444    Charlie            7\n",
            "..    ...        ...          ...\n",
            "95  58388        Ian            3\n",
            "66  65258        Bob            3\n",
            "71  65262        Bob            3\n",
            "21  87317        Bob            3\n",
            "98  94063        Uma            3\n",
            "\n",
            "[100 rows x 3 columns]\n"
          ]
        }
      ],
      "source": [
        "vowel_highID = df[(df['Starts_With_Vowel'] == 1) & (df['High_ID'] == 1)]\n",
        "print(vowel_highID)\n",
        "\n",
        "top_10_IDs = df.sort_values('ID', ascending=False).head(10)\n",
        "print(top_10_IDs[['ID', 'First_Name']])\n",
        "\n",
        "group_count = df.groupby('Starts_With_Vowel').size()\n",
        "print(group_count)\n",
        "\n",
        "sorted_df = df.sort_values(['Name_Length', 'ID'], ascending=[False, True])\n",
        "print(sorted_df[['ID','First_Name','Name_Length']])"
      ]
    },
    {
      "cell_type": "markdown",
      "metadata": {
        "id": "5a4MZdNsP1jG"
      },
      "source": [
        "Part 8 – Insights"
      ]
    },
    {
      "cell_type": "code",
      "execution_count": null,
      "metadata": {
        "colab": {
          "base_uri": "https://localhost:8080/",
          "height": 646
        },
        "id": "zbpZuG6qP3tO",
        "outputId": "43c55a98-6fd3-4f6d-fc59-2421f06e975d"
      },
      "outputs": [
        {
          "name": "stdout",
          "output_type": "stream",
          "text": [
            "Most Frequent Name: Sophia\n",
            "Average ID: 50694.19\n",
            "Correlation (ID vs Name_Length): -0.02587516459648293\n",
            "Trend: No clear relationship between ID size and name length\n",
            "Quartile with longest average IDs: 1\n"
          ]
        },
        {
          "data": {
            "text/plain": [
              "Text(0, 0.5, 'Name Length')"
            ]
          },
          "execution_count": 17,
          "metadata": {},
          "output_type": "execute_result"
        },
        {
          "data": {
            "image/png": "[encoded data removed]",
            "text/plain": [
              "<Figure size 1000x600 with 1 Axes>"
            ]
          },
          "metadata": {},
          "output_type": "display_data"
        }
      ],
      "source": [
        "print(\"Most Frequent Name:\", df['First_Name'].mode()[0])\n",
        "\n",
        "print(\"Average ID:\", df['ID'].mean())\n",
        "\n",
        "corr = df['ID'].corr(df['Name_Length'])\n",
        "print(\"Correlation (ID vs Name_Length):\", corr)\n",
        "if corr > 0.3:\n",
        "    print(\"Trend: Positive → Larger IDs tend to have longer names\")\n",
        "elif corr < -0.3:\n",
        "    print(\"Trend: Negative → Larger IDs tend to have shorter names\")\n",
        "else:\n",
        "    print(\"Trend: No clear relationship between ID size and name length\")\n",
        "\n",
        "print(\"Quartile with longest average IDs:\", df.groupby('Length_Quartile')['ID'].mean().idxmax())"
      ]
    }
  ],
  "metadata": {
    "colab": {
      "provenance": []
    },
    "kernelspec": {
      "display_name": "Python 3",
      "name": "python3"
    },
    "language_info": {
      "name": "python",
      "version": "3.10.18"
    }
  },
  "nbformat": 4,
  "nbformat_minor": 0
}
