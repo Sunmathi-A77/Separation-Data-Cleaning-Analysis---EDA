{
  "cells": [
    {
      "cell_type": "markdown",
      "metadata": {
        "id": "5cQb9WBr-V3L"
      },
      "source": [
        "Task - 4  Separation Data Cleaning & Analysis"
      ]
    },
    {
      "cell_type": "code",
      "execution_count": 43,
      "metadata": {
        "id": "AgpMe5Um-Mat"
      },
      "outputs": [],
      "source": [
        "import pandas as pd\n",
        "import numpy as np\n",
        "import matplotlib.pyplot as plt"
      ]
    },
    {
      "cell_type": "markdown",
      "metadata": {
        "id": "mHn8Y1D2_GoV"
      },
      "source": [
        "Part 1 – Basic Data Understanding (Pandas)"
      ]
    },
    {
      "cell_type": "code",
      "execution_count": 44,
      "metadata": {
        "colab": {
          "base_uri": "https://localhost:8080/",
          "height": 363
        },
        "id": "5Ogv7AxV_IiQ",
        "outputId": "6481a8e3-7123-44c6-94a0-aee0c2ca7087"
      },
      "outputs": [
        {
          "data": {
            "text/html": [
              "<div>\n",
              "<style scoped>\n",
              "    .dataframe tbody tr th:only-of-type {\n",
              "        vertical-align: middle;\n",
              "    }\n",
              "\n",
              "    .dataframe tbody tr th {\n",
              "        vertical-align: top;\n",
              "    }\n",
              "\n",
              "    .dataframe thead th {\n",
              "        text-align: right;\n",
              "    }\n",
              "</style>\n",
              "<table border=\"1\" class=\"dataframe\">\n",
              "  <thead>\n",
              "    <tr style=\"text-align: right;\">\n",
              "      <th></th>\n",
              "      <th>id</th>\n",
              "      <th>ID</th>\n",
              "      <th>First_Name</th>\n",
              "    </tr>\n",
              "  </thead>\n",
              "  <tbody>\n",
              "    <tr>\n",
              "      <th>0</th>\n",
              "      <td>12345Johnny</td>\n",
              "      <td>12345</td>\n",
              "      <td>Johnny</td>\n",
              "    </tr>\n",
              "    <tr>\n",
              "      <th>1</th>\n",
              "      <td>93829Sally</td>\n",
              "      <td>93829</td>\n",
              "      <td>Sally</td>\n",
              "    </tr>\n",
              "    <tr>\n",
              "      <th>2</th>\n",
              "      <td>20391Larry</td>\n",
              "      <td>20391</td>\n",
              "      <td>Larry</td>\n",
              "    </tr>\n",
              "    <tr>\n",
              "      <th>3</th>\n",
              "      <td>29324Valerie</td>\n",
              "      <td>29324</td>\n",
              "      <td>Valerie</td>\n",
              "    </tr>\n",
              "    <tr>\n",
              "      <th>4</th>\n",
              "      <td>43557Nina</td>\n",
              "      <td>43557</td>\n",
              "      <td>Nina</td>\n",
              "    </tr>\n",
              "    <tr>\n",
              "      <th>5</th>\n",
              "      <td>55027Bob</td>\n",
              "      <td>55027</td>\n",
              "      <td>Bob</td>\n",
              "    </tr>\n",
              "    <tr>\n",
              "      <th>6</th>\n",
              "      <td>78551Julia</td>\n",
              "      <td>78551</td>\n",
              "      <td>Julia</td>\n",
              "    </tr>\n",
              "    <tr>\n",
              "      <th>7</th>\n",
              "      <td>77268Nina</td>\n",
              "      <td>77268</td>\n",
              "      <td>Nina</td>\n",
              "    </tr>\n",
              "    <tr>\n",
              "      <th>8</th>\n",
              "      <td>19876Xander</td>\n",
              "      <td>19876</td>\n",
              "      <td>Xander</td>\n",
              "    </tr>\n",
              "    <tr>\n",
              "      <th>9</th>\n",
              "      <td>28290Fiona</td>\n",
              "      <td>28290</td>\n",
              "      <td>Fiona</td>\n",
              "    </tr>\n",
              "  </tbody>\n",
              "</table>\n",
              "</div>"
            ],
            "text/plain": [
              "             id     ID First_Name\n",
              "0   12345Johnny  12345     Johnny\n",
              "1    93829Sally  93829      Sally\n",
              "2    20391Larry  20391      Larry\n",
              "3  29324Valerie  29324    Valerie\n",
              "4     43557Nina  43557       Nina\n",
              "5      55027Bob  55027        Bob\n",
              "6    78551Julia  78551      Julia\n",
              "7     77268Nina  77268       Nina\n",
              "8   19876Xander  19876     Xander\n",
              "9    28290Fiona  28290      Fiona"
            ]
          },
          "execution_count": 44,
          "metadata": {},
          "output_type": "execute_result"
        }
      ],
      "source": [
        "df = pd.read_csv('separated_names.csv')\n",
        "\n",
        "df.head(10)"
      ]
    },
    {
      "cell_type": "code",
      "execution_count": 45,
      "metadata": {
        "colab": {
          "base_uri": "https://localhost:8080/"
        },
        "id": "_t-lXGnpAWOX",
        "outputId": "6afc4d8c-d016-4911-e7a3-e128ba4c6429"
      },
      "outputs": [
        {
          "data": {
            "text/plain": [
              "(100, 3)"
            ]
          },
          "execution_count": 45,
          "metadata": {},
          "output_type": "execute_result"
        }
      ],
      "source": [
        "df.shape"
      ]
    },
    {
      "cell_type": "code",
      "execution_count": 46,
      "metadata": {
        "colab": {
          "base_uri": "https://localhost:8080/"
        },
        "id": "RgZ7yrMrAV8e",
        "outputId": "3a06efc7-b716-44cc-dcac-a659cf4e8540"
      },
      "outputs": [
        {
          "data": {
            "text/plain": [
              "Index(['id', 'ID', 'First_Name'], dtype='object')"
            ]
          },
          "execution_count": 46,
          "metadata": {},
          "output_type": "execute_result"
        }
      ],
      "source": [
        "df.columns"
      ]
    },
    {
      "cell_type": "code",
      "execution_count": 47,
      "metadata": {
        "colab": {
          "base_uri": "https://localhost:8080/",
          "height": 178
        },
        "id": "iMEWGo0kAbUj",
        "outputId": "c2bafdea-6d8c-42dc-fe3b-5f2168e1079d"
      },
      "outputs": [
        {
          "data": {
            "text/plain": [
              "id            object\n",
              "ID             int64\n",
              "First_Name    object\n",
              "dtype: object"
            ]
          },
          "execution_count": 47,
          "metadata": {},
          "output_type": "execute_result"
        }
      ],
      "source": [
        "df.dtypes"
      ]
    },
    {
      "cell_type": "code",
      "execution_count": 48,
      "metadata": {
        "colab": {
          "base_uri": "https://localhost:8080/",
          "height": 178
        },
        "id": "LXKi4aj_Aj2e",
        "outputId": "aeee1562-8f85-485f-894e-85342c99bd2c"
      },
      "outputs": [
        {
          "data": {
            "text/plain": [
              "id            0\n",
              "ID            0\n",
              "First_Name    0\n",
              "dtype: int64"
            ]
          },
          "execution_count": 48,
          "metadata": {},
          "output_type": "execute_result"
        }
      ],
      "source": [
        "df.isnull().sum()"
      ]
    },
    {
      "cell_type": "code",
      "execution_count": 49,
      "metadata": {
        "colab": {
          "base_uri": "https://localhost:8080/"
        },
        "id": "ruGakswrApcZ",
        "outputId": "099880e9-772b-41b7-819f-19f14098a5a4"
      },
      "outputs": [
        {
          "data": {
            "text/plain": [
              "np.int64(0)"
            ]
          },
          "execution_count": 49,
          "metadata": {},
          "output_type": "execute_result"
        }
      ],
      "source": [
        "df.duplicated().sum()"
      ]
    },
    {
      "cell_type": "code",
      "execution_count": 50,
      "metadata": {
        "colab": {
          "base_uri": "https://localhost:8080/",
          "height": 335
        },
        "id": "gQvzOazIAybr",
        "outputId": "36ea7300-ca97-47f4-9dc7-a3af7843f76e"
      },
      "outputs": [
        {
          "data": {
            "text/plain": [
              "count      100.000000\n",
              "mean     50694.190000\n",
              "std      26500.870402\n",
              "min      11314.000000\n",
              "25%      26643.500000\n",
              "50%      44728.000000\n",
              "75%      74815.000000\n",
              "max      95807.000000\n",
              "Name: ID, dtype: float64"
            ]
          },
          "execution_count": 50,
          "metadata": {},
          "output_type": "execute_result"
        }
      ],
      "source": [
        "df['ID'].describe()"
      ]
    },
    {
      "cell_type": "code",
      "execution_count": 51,
      "metadata": {
        "colab": {
          "base_uri": "https://localhost:8080/",
          "height": 209
        },
        "id": "A9l4_jsZA9oz",
        "outputId": "6ae07967-028e-4c02-cfe8-7b343d123ced"
      },
      "outputs": [
        {
          "data": {
            "text/plain": [
              "count        100\n",
              "unique        28\n",
              "top       Sophia\n",
              "freq           8\n",
              "Name: First_Name, dtype: object"
            ]
          },
          "execution_count": 51,
          "metadata": {},
          "output_type": "execute_result"
        }
      ],
      "source": [
        "df['First_Name'].describe()"
      ]
    },
    {
      "cell_type": "markdown",
      "metadata": {
        "id": "lTFFaa0ABQOw"
      },
      "source": [
        "Part 2 – Data Cleaning"
      ]
    },
    {
      "cell_type": "code",
      "execution_count": 52,
      "metadata": {},
      "outputs": [
        {
          "name": "stdout",
          "output_type": "stream",
          "text": [
            "Skewness of ID: 0.20816984486531137\n"
          ]
        }
      ],
      "source": [
        "print(\"Skewness of ID:\", df['ID'].skew())"
      ]
    },
    {
      "cell_type": "code",
      "execution_count": 53,
      "metadata": {},
      "outputs": [
        {
          "data": {
            "image/png": "[encoded data removed]",
            "text/plain": [
              "<Figure size 600x400 with 1 Axes>"
            ]
          },
          "metadata": {},
          "output_type": "display_data"
        }
      ],
      "source": [
        "# Numeric column histogram\n",
        "plt.figure(figsize=(6,4))\n",
        "plt.hist(df['ID'], bins=8, color='skyblue', edgecolor='black')\n",
        "plt.xlabel('ID')\n",
        "plt.ylabel('Frequency')\n",
        "plt.title('Distribution of ID')\n",
        "plt.show()"
      ]
    },
    {
      "cell_type": "code",
      "execution_count": 54,
      "metadata": {
        "colab": {
          "base_uri": "https://localhost:8080/"
        },
        "id": "Uy57RJYqBSgI",
        "outputId": "f5cb96fc-9714-4f00-c30d-321565417027"
      },
      "outputs": [
        {
          "name": "stdout",
          "output_type": "stream",
          "text": [
            "True\n"
          ]
        }
      ],
      "source": [
        "df['ID'] = df['id'].str[:5].astype(int)\n",
        "df['First_Name'] = df['id'].str[5:]\n",
        "\n",
        "df['First_Name'] = df['First_Name'].str.strip().str.title()\n",
        "\n",
        "print(df['ID'].is_unique)"
      ]
    },
    {
      "cell_type": "markdown",
      "metadata": {
        "id": "DBpuqZreDmQn"
      },
      "source": [
        "Part 3 – Exploratory Data Analysis (EDA)"
      ]
    },
    {
      "cell_type": "code",
      "execution_count": 55,
      "metadata": {
        "colab": {
          "base_uri": "https://localhost:8080/",
          "height": 771
        },
        "id": "RmEfo36eDq9z",
        "outputId": "a37a5683-ab8e-4a62-9056-aa311dfe6de7"
      },
      "outputs": [
        {
          "name": "stdout",
          "output_type": "stream",
          "text": [
            "0    Sophia\n",
            "Name: First_Name, dtype: object\n",
            "28\n",
            "31    95807\n",
            "98    94063\n",
            "1     93829\n",
            "32    92910\n",
            "84    92725\n",
            "Name: ID, dtype: int64\n",
            "11    11314\n",
            "0     12345\n",
            "97    12962\n",
            "52    13595\n",
            "27    14287\n",
            "Name: ID, dtype: int64\n"
          ]
        },
        {
          "data": {
            "image/png": "[encoded data removed]",
            "text/plain": [
              "<Figure size 640x480 with 1 Axes>"
            ]
          },
          "metadata": {},
          "output_type": "display_data"
        }
      ],
      "source": [
        "print(df['First_Name'].mode())\n",
        "\n",
        "print(df['First_Name'].nunique())\n",
        "\n",
        "print(df['ID'].nlargest(5))\n",
        "\n",
        "print(df['ID'].nsmallest(5))\n",
        "\n",
        "df['First_Name'].value_counts().head(10).plot(kind='bar')\n",
        "plt.xlabel('First Name')\n",
        "plt.ylabel('Count')\n",
        "plt.title('Top 10 First Names')\n",
        "plt.show()"
      ]
    },
    {
      "cell_type": "markdown",
      "metadata": {
        "id": "4_-82J9EFL_p"
      },
      "source": [
        "Part 4 – Statistics"
      ]
    },
    {
      "cell_type": "code",
      "execution_count": 56,
      "metadata": {
        "colab": {
          "base_uri": "https://localhost:8080/"
        },
        "id": "dVc_IJCgFOF6",
        "outputId": "01e486a6-d7cc-4650-eaca-9e7891f75ed3"
      },
      "outputs": [
        {
          "name": "stdout",
          "output_type": "stream",
          "text": [
            "Mean :  50694.19\n",
            "Median :  44728.0\n",
            "Variance :  702296132.0746465\n",
            "Standard Deviation :  26500.870402208424\n",
            "P(ID > 50000):  0.45\n",
            "P(Name starts with A):  0.04\n",
            "percentage of Names > 5 letters:  33.0\n"
          ]
        }
      ],
      "source": [
        "print(\"Mean : \",df['ID'].mean())\n",
        "\n",
        "print(\"Median : \",df['ID'].median())\n",
        "\n",
        "print(\"Variance : \",df['ID'].var())\n",
        "\n",
        "print(\"Standard Deviation : \",df['ID'].std())\n",
        "\n",
        "print(\"P(ID > 50000): \", (df['ID'] > 50000).mean())\n",
        "\n",
        "print(\"P(Name starts with A): \", df['First_Name'].str.startswith(\"A\").mean())\n",
        "\n",
        "print(\"percentage of Names > 5 letters: \", (df['First_Name'].str.len() > 5).mean() * 100)"
      ]
    },
    {
      "cell_type": "markdown",
      "metadata": {
        "id": "j77hNCiFGeRt"
      },
      "source": [
        "Part 5 – Linear Algebra & NumPy"
      ]
    },
    {
      "cell_type": "code",
      "execution_count": 57,
      "metadata": {
        "colab": {
          "base_uri": "https://localhost:8080/"
        },
        "id": "bg5O07NnGgTY",
        "outputId": "9a6e6dab-707b-496d-9a3b-46f7e7a35734"
      },
      "outputs": [
        {
          "name": "stdout",
          "output_type": "stream",
          "text": [
            "Addition: [12438 93835 20407 29335 43572 55098 78581 77359 19915 28382 38901 11377\n",
            " 90430 79595 25804 31839 34213 47707 31527 27600 15302 87361 87536 18386\n",
            " 19073 20297 82766 14371 92098 70817 17608 95818 92994 36426 15133 58094\n",
            " 72481 61809 45607 42161 81619 26716 53380 73662 66405 90113 46884 90383\n",
            " 62392 74976 24447 40003 13691 66360 36550 81684 46445 22540 81856 82139\n",
            " 22235 63353 60512 60597 32857 26696 65329 36867 43002 32587 25269 65324\n",
            " 88610 89535 17630 41473 27532 17381 25070 39382 40214 22440 71106 58309\n",
            " 92797 16143 36908 87911 74849 85507 43949 89724 49964 42885 68549 58437\n",
            " 43118 13057 94156 17124]\n",
            "Subtraction: [12252 93823 20375 29313 43542 54956 78521 77177 19837 28198 38881 11251\n",
            " 90282 79549 25624 31789 34055 47601 31361 27452 15276 87273 87414 18274\n",
            " 18921 20185 82578 14203 91984 70625 17460 95796 92826 36286 15119 58070\n",
            " 72417 61751 45459 42109 81467 26574 53198 73642 66323 90083 46756 90363\n",
            " 62336 74846 24413 39909 13499 66268 36498 81640 46371 22402 81704 82119\n",
            " 22135 63267 60346 60577 32791 26582 65187 36805 42938 32535 25119 65200\n",
            " 88544 89397 17490 41303 27392 17265 24964 39192 40086 22244 71084 58137\n",
            " 92653 16003 36816 87855 74717 85383 43897 89664 49856 42777 68479 58339\n",
            " 42934 12867 93970 17086]\n",
            "Dot Product: 255228311\n",
            "Matrix Multiplication Result: [ 3768.6 28152.9  6128.5  8804.9 13077.6 16557.8 23586.3 23244.1  5990.1\n",
            "  8551.4 11674.3  3438.3 27158.6 23887.7  7777.2  9561.7 10295.5 14333.3\n",
            "  9491.3  8309.6  4595.8 26225.9 26285.2  5538.2  5752.3  6111.5 24867.4\n",
            "  4344.9 27652.2 21283.5  5312.  28749.8 27931.8 10955.8  4542.7 17433.\n",
            " 21757.1 18554.3 13711.7 12658.7 24516.1  8043.2 16050.4 22102.6 19937.9\n",
            " 27039.9 14090.8 27118.9 18728.8 22518.8  7340.9 12019.7  4145.7 19926.4\n",
            " 10975.4 24514.  13948.3  6789.6 24587.2 24645.7  6690.5 19023.1 18186.8\n",
            " 18183.1  9870.3  8031.6 19627.1 11072.5 12913.4  9786.5  7610.7 19622.\n",
            " 26596.2 26888.1  5317.  12475.9  8287.6  5237.5  7542.2 11852.6 12089.8\n",
            "  6771.2 21336.2 17527.1 27867.9  4870.9 11090.8 26384.5 22481.1 25676.9\n",
            " 13195.1 26929.2 15010.8 12887.1 20578.7 17550.7 12972.2  3955.1 28284.\n",
            "  5144.8]\n"
          ]
        }
      ],
      "source": [
        "ID_array = df['ID'].to_numpy()\n",
        "\n",
        "score_array = np.random.randint(1, 100, size=len(df))\n",
        "\n",
        "print(\"Addition:\", ID_array + score_array)\n",
        "print(\"Subtraction:\", ID_array - score_array)\n",
        "\n",
        "print(\"Dot Product:\", np.dot(ID_array, score_array))\n",
        "\n",
        "features = np.column_stack((ID_array, score_array))\n",
        "weights = np.array([0.3, 0.7])\n",
        "result = features @ weights\n",
        "print(\"Matrix Multiplication Result:\", result)"
      ]
    },
    {
      "cell_type": "markdown",
      "metadata": {
        "id": "Npr1PtoAKzZd"
      },
      "source": [
        "Part 6 – Feature Engineering"
      ]
    },
    {
      "cell_type": "code",
      "execution_count": 58,
      "metadata": {
        "colab": {
          "base_uri": "https://localhost:8080/"
        },
        "id": "fPSqLEbEK1vU",
        "outputId": "63869e23-f202-47ee-fd9f-ecece2412c69"
      },
      "outputs": [
        {
          "name": "stdout",
          "output_type": "stream",
          "text": [
            "0     6\n",
            "1     5\n",
            "2     5\n",
            "3     7\n",
            "4     4\n",
            "     ..\n",
            "95    3\n",
            "96    5\n",
            "97    5\n",
            "98    3\n",
            "99    7\n",
            "Name: Name_Length, Length: 100, dtype: int64\n",
            "0     0\n",
            "1     0\n",
            "2     0\n",
            "3     0\n",
            "4     0\n",
            "     ..\n",
            "95    1\n",
            "96    1\n",
            "97    0\n",
            "98    1\n",
            "99    0\n",
            "Name: Starts_With_Vowel, Length: 100, dtype: int64\n",
            "0     0\n",
            "1     1\n",
            "2     0\n",
            "3     0\n",
            "4     0\n",
            "     ..\n",
            "95    1\n",
            "96    0\n",
            "97    0\n",
            "98    1\n",
            "99    0\n",
            "Name: High_ID, Length: 100, dtype: int64\n",
            "0     1\n",
            "1     0\n",
            "2     0\n",
            "3     2\n",
            "4     0\n",
            "     ..\n",
            "95    0\n",
            "96    0\n",
            "97    0\n",
            "98    0\n",
            "99    2\n",
            "Name: Length_Quartile, Length: 100, dtype: int64\n"
          ]
        }
      ],
      "source": [
        "df['Name_Length'] = df['First_Name'].str.len()\n",
        "print(df['Name_Length'])\n",
        "\n",
        "df['Starts_With_Vowel'] = df['First_Name'].fillna('').str[0].str.upper().isin(['A','E','I','O','U']).astype(int)\n",
        "print(df['Starts_With_Vowel'])\n",
        "\n",
        "df['High_ID'] = (df['ID'] > 50000).astype(int)\n",
        "print(df['High_ID'])\n",
        "\n",
        "df['Length_Quartile'] = pd.qcut(df['Name_Length'], 4, labels=False, duplicates='drop')\n",
        "print(df['Length_Quartile'])"
      ]
    },
    {
      "cell_type": "markdown",
      "metadata": {
        "id": "Kq59z5t9OG9s"
      },
      "source": [
        "Part 7 – SQL Simulation in Pandas"
      ]
    },
    {
      "cell_type": "code",
      "execution_count": 59,
      "metadata": {
        "colab": {
          "base_uri": "https://localhost:8080/"
        },
        "id": "Ix2ghMtxOKGU",
        "outputId": "5eee769e-b36e-41f3-acd2-faa5f09660af"
      },
      "outputs": [
        {
          "name": "stdout",
          "output_type": "stream",
          "text": [
            "            id     ID First_Name  Name_Length  Starts_With_Vowel  High_ID  \\\n",
            "35    58082Uma  58082        Uma            3                  1        1   \n",
            "37  61780Ethan  61780      Ethan            5                  1        1   \n",
            "72  88577Ethan  88577      Ethan            5                  1        1   \n",
            "73  89466Ethan  89466      Ethan            5                  1        1   \n",
            "95    58388Ian  58388        Ian            3                  1        1   \n",
            "98    94063Uma  94063        Uma            3                  1        1   \n",
            "\n",
            "    Length_Quartile  \n",
            "35                0  \n",
            "37                0  \n",
            "72                0  \n",
            "73                0  \n",
            "95                0  \n",
            "98                0  \n",
            "       ID First_Name\n",
            "31  95807     Xander\n",
            "98  94063        Uma\n",
            "1   93829      Sally\n",
            "32  92910     Sophia\n",
            "84  92725       Nina\n",
            "28  92041     Sophia\n",
            "47  90373    Michael\n",
            "12  90356      Paula\n",
            "45  90098     Hannah\n",
            "91  89694      Fiona\n",
            "Starts_With_Vowel\n",
            "0    83\n",
            "1    17\n",
            "dtype: int64\n",
            "       ID First_Name  Name_Length\n",
            "99  17105    Charlie            7\n",
            "77  17323    Charlie            7\n",
            "30  17534    Charlie            7\n",
            "3   29324    Valerie            7\n",
            "18  31444    Charlie            7\n",
            "..    ...        ...          ...\n",
            "95  58388        Ian            3\n",
            "66  65258        Bob            3\n",
            "71  65262        Bob            3\n",
            "21  87317        Bob            3\n",
            "98  94063        Uma            3\n",
            "\n",
            "[100 rows x 3 columns]\n"
          ]
        }
      ],
      "source": [
        "vowel_highID = df[(df['Starts_With_Vowel'] == 1) & (df['High_ID'] == 1)]\n",
        "print(vowel_highID)\n",
        "\n",
        "top_10_IDs = df.sort_values('ID', ascending=False).head(10)\n",
        "print(top_10_IDs[['ID', 'First_Name']])\n",
        "\n",
        "group_count = df.groupby('Starts_With_Vowel').size()\n",
        "print(group_count)\n",
        "\n",
        "sorted_df = df.sort_values(['Name_Length', 'ID'], ascending=[False, True])\n",
        "print(sorted_df[['ID','First_Name','Name_Length']])"
      ]
    },
    {
      "cell_type": "markdown",
      "metadata": {
        "id": "5a4MZdNsP1jG"
      },
      "source": [
        "Part 8 – Insights"
      ]
    },
    {
      "cell_type": "code",
      "execution_count": 60,
      "metadata": {
        "colab": {
          "base_uri": "https://localhost:8080/",
          "height": 646
        },
        "id": "zbpZuG6qP3tO",
        "outputId": "43c55a98-6fd3-4f6d-fc59-2421f06e975d"
      },
      "outputs": [
        {
          "name": "stdout",
          "output_type": "stream",
          "text": [
            "Most Frequent Name: Sophia\n",
            "Average ID: 50694.19\n",
            "Correlation (ID vs Name_Length): -0.02587516459648293\n",
            "Trend: No clear relationship between ID size and name length\n",
            "Quartile with longest average IDs: 1\n"
          ]
        }
      ],
      "source": [
        "print(\"Most Frequent Name:\", df['First_Name'].mode()[0])\n",
        "\n",
        "print(\"Average ID:\", df['ID'].mean())\n",
        "\n",
        "corr = df['ID'].corr(df['Name_Length'])\n",
        "print(\"Correlation (ID vs Name_Length):\", corr)\n",
        "if corr > 0.3:\n",
        "    print(\"Trend: Positive → Larger IDs tend to have longer names\")\n",
        "elif corr < -0.3:\n",
        "    print(\"Trend: Negative → Larger IDs tend to have shorter names\")\n",
        "else:\n",
        "    print(\"Trend: No clear relationship between ID size and name length\")\n",
        "\n",
        "print(\"Quartile with longest average IDs:\", df.groupby('Length_Quartile')['ID'].mean().idxmax())"
      ]
    },
    {
      "cell_type": "code",
      "execution_count": 61,
      "metadata": {},
      "outputs": [
        {
          "data": {
            "text/html": [
              "<div>\n",
              "<style scoped>\n",
              "    .dataframe tbody tr th:only-of-type {\n",
              "        vertical-align: middle;\n",
              "    }\n",
              "\n",
              "    .dataframe tbody tr th {\n",
              "        vertical-align: top;\n",
              "    }\n",
              "\n",
              "    .dataframe thead th {\n",
              "        text-align: right;\n",
              "    }\n",
              "</style>\n",
              "<table border=\"1\" class=\"dataframe\">\n",
              "  <thead>\n",
              "    <tr style=\"text-align: right;\">\n",
              "      <th></th>\n",
              "      <th>id</th>\n",
              "      <th>ID</th>\n",
              "      <th>First_Name</th>\n",
              "      <th>Name_Length</th>\n",
              "      <th>Starts_With_Vowel</th>\n",
              "      <th>High_ID</th>\n",
              "      <th>Length_Quartile</th>\n",
              "    </tr>\n",
              "  </thead>\n",
              "  <tbody>\n",
              "    <tr>\n",
              "      <th>0</th>\n",
              "      <td>12345Johnny</td>\n",
              "      <td>12345</td>\n",
              "      <td>Johnny</td>\n",
              "      <td>6</td>\n",
              "      <td>0</td>\n",
              "      <td>0</td>\n",
              "      <td>1</td>\n",
              "    </tr>\n",
              "    <tr>\n",
              "      <th>1</th>\n",
              "      <td>93829Sally</td>\n",
              "      <td>93829</td>\n",
              "      <td>Sally</td>\n",
              "      <td>5</td>\n",
              "      <td>0</td>\n",
              "      <td>1</td>\n",
              "      <td>0</td>\n",
              "    </tr>\n",
              "    <tr>\n",
              "      <th>2</th>\n",
              "      <td>20391Larry</td>\n",
              "      <td>20391</td>\n",
              "      <td>Larry</td>\n",
              "      <td>5</td>\n",
              "      <td>0</td>\n",
              "      <td>0</td>\n",
              "      <td>0</td>\n",
              "    </tr>\n",
              "    <tr>\n",
              "      <th>3</th>\n",
              "      <td>29324Valerie</td>\n",
              "      <td>29324</td>\n",
              "      <td>Valerie</td>\n",
              "      <td>7</td>\n",
              "      <td>0</td>\n",
              "      <td>0</td>\n",
              "      <td>2</td>\n",
              "    </tr>\n",
              "    <tr>\n",
              "      <th>4</th>\n",
              "      <td>43557Nina</td>\n",
              "      <td>43557</td>\n",
              "      <td>Nina</td>\n",
              "      <td>4</td>\n",
              "      <td>0</td>\n",
              "      <td>0</td>\n",
              "      <td>0</td>\n",
              "    </tr>\n",
              "  </tbody>\n",
              "</table>\n",
              "</div>"
            ],
            "text/plain": [
              "             id     ID First_Name  Name_Length  Starts_With_Vowel  High_ID  \\\n",
              "0   12345Johnny  12345     Johnny            6                  0        0   \n",
              "1    93829Sally  93829      Sally            5                  0        1   \n",
              "2    20391Larry  20391      Larry            5                  0        0   \n",
              "3  29324Valerie  29324    Valerie            7                  0        0   \n",
              "4     43557Nina  43557       Nina            4                  0        0   \n",
              "\n",
              "   Length_Quartile  \n",
              "0                1  \n",
              "1                0  \n",
              "2                0  \n",
              "3                2  \n",
              "4                0  "
            ]
          },
          "execution_count": 61,
          "metadata": {},
          "output_type": "execute_result"
        }
      ],
      "source": [
        "df.head()"
      ]
    },
    {
      "cell_type": "code",
      "execution_count": 62,
      "metadata": {},
      "outputs": [
        {
          "name": "stdout",
          "output_type": "stream",
          "text": [
            "   Starts_With_Vowel  High_ID  Name_Length\n",
            "0                  0        0     5.386364\n",
            "1                  0        1     5.102564\n",
            "2                  1        0     4.272727\n",
            "3                  1        1     4.000000\n"
          ]
        },
        {
          "data": {
            "image/png": "[encoded data removed]",
            "text/plain": [
              "<Figure size 600x400 with 1 Axes>"
            ]
          },
          "metadata": {},
          "output_type": "display_data"
        }
      ],
      "source": [
        "grouped = df.groupby(['Starts_With_Vowel', 'High_ID'])['Name_Length'].mean().reset_index()\n",
        "print(grouped)\n",
        "\n",
        "plt.figure(figsize=(6,4))\n",
        "plt.bar(x=[f\"{a}-{b}\" for a,b in zip(grouped['Starts_With_Vowel'], grouped['High_ID'])], height=grouped['Name_Length'], color=['skyblue', 'lightgreen', 'orange', 'salmon'])\n",
        "plt.xlabel('Starts_With_Vowel - High_ID')\n",
        "plt.ylabel('Average Name Length')\n",
        "plt.title('Average Name Length by Vowel Start and High ID')\n",
        "plt.show()"
      ]
    }
  ],
  "metadata": {
    "colab": {
      "provenance": []
    },
    "kernelspec": {
      "display_name": "Python 3",
      "name": "python3"
    },
    "language_info": {
      "codemirror_mode": {
        "name": "ipython",
        "version": 3
      },
      "file_extension": ".py",
      "mimetype": "text/x-python",
      "name": "python",
      "nbconvert_exporter": "python",
      "pygments_lexer": "ipython3",
      "version": "3.10.18"
    }
  },
  "nbformat": 4,
  "nbformat_minor": 0
}
