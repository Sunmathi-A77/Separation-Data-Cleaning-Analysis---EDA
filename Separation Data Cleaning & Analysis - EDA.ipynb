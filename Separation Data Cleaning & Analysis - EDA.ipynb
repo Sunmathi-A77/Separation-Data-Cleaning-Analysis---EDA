{
  "cells": [
    {
      "cell_type": "markdown",
      "metadata": {
        "id": "5cQb9WBr-V3L"
      },
      "source": [
        "Task - 4  Separation Data Cleaning & Analysis"
      ]
    },
    {
      "cell_type": "code",
      "execution_count": 87,
      "metadata": {
        "id": "AgpMe5Um-Mat"
      },
      "outputs": [],
      "source": [
        "import pandas as pd\n",
        "import numpy as np\n",
        "import matplotlib.pyplot as plt"
      ]
    },
    {
      "cell_type": "markdown",
      "metadata": {
        "id": "mHn8Y1D2_GoV"
      },
      "source": [
        "Part 1 – Basic Data Understanding (Pandas)"
      ]
    },
    {
      "cell_type": "code",
      "execution_count": 88,
      "metadata": {
        "colab": {
          "base_uri": "https://localhost:8080/",
          "height": 363
        },
        "id": "5Ogv7AxV_IiQ",
        "outputId": "6481a8e3-7123-44c6-94a0-aee0c2ca7087"
      },
      "outputs": [
        {
          "data": {
            "text/html": [
              "<div>\n",
              "<style scoped>\n",
              "    .dataframe tbody tr th:only-of-type {\n",
              "        vertical-align: middle;\n",
              "    }\n",
              "\n",
              "    .dataframe tbody tr th {\n",
              "        vertical-align: top;\n",
              "    }\n",
              "\n",
              "    .dataframe thead th {\n",
              "        text-align: right;\n",
              "    }\n",
              "</style>\n",
              "<table border=\"1\" class=\"dataframe\">\n",
              "  <thead>\n",
              "    <tr style=\"text-align: right;\">\n",
              "      <th></th>\n",
              "      <th>id</th>\n",
              "      <th>ID</th>\n",
              "      <th>First_Name</th>\n",
              "    </tr>\n",
              "  </thead>\n",
              "  <tbody>\n",
              "    <tr>\n",
              "      <th>0</th>\n",
              "      <td>12345Johnny</td>\n",
              "      <td>12345</td>\n",
              "      <td>Johnny</td>\n",
              "    </tr>\n",
              "    <tr>\n",
              "      <th>1</th>\n",
              "      <td>93829Sally</td>\n",
              "      <td>93829</td>\n",
              "      <td>Sally</td>\n",
              "    </tr>\n",
              "    <tr>\n",
              "      <th>2</th>\n",
              "      <td>20391Larry</td>\n",
              "      <td>20391</td>\n",
              "      <td>Larry</td>\n",
              "    </tr>\n",
              "    <tr>\n",
              "      <th>3</th>\n",
              "      <td>29324Valerie</td>\n",
              "      <td>29324</td>\n",
              "      <td>Valerie</td>\n",
              "    </tr>\n",
              "    <tr>\n",
              "      <th>4</th>\n",
              "      <td>43557Nina</td>\n",
              "      <td>43557</td>\n",
              "      <td>Nina</td>\n",
              "    </tr>\n",
              "    <tr>\n",
              "      <th>5</th>\n",
              "      <td>55027Bob</td>\n",
              "      <td>55027</td>\n",
              "      <td>Bob</td>\n",
              "    </tr>\n",
              "    <tr>\n",
              "      <th>6</th>\n",
              "      <td>78551Julia</td>\n",
              "      <td>78551</td>\n",
              "      <td>Julia</td>\n",
              "    </tr>\n",
              "    <tr>\n",
              "      <th>7</th>\n",
              "      <td>77268Nina</td>\n",
              "      <td>77268</td>\n",
              "      <td>Nina</td>\n",
              "    </tr>\n",
              "    <tr>\n",
              "      <th>8</th>\n",
              "      <td>19876Xander</td>\n",
              "      <td>19876</td>\n",
              "      <td>Xander</td>\n",
              "    </tr>\n",
              "    <tr>\n",
              "      <th>9</th>\n",
              "      <td>28290Fiona</td>\n",
              "      <td>28290</td>\n",
              "      <td>Fiona</td>\n",
              "    </tr>\n",
              "  </tbody>\n",
              "</table>\n",
              "</div>"
            ],
            "text/plain": [
              "             id     ID First_Name\n",
              "0   12345Johnny  12345     Johnny\n",
              "1    93829Sally  93829      Sally\n",
              "2    20391Larry  20391      Larry\n",
              "3  29324Valerie  29324    Valerie\n",
              "4     43557Nina  43557       Nina\n",
              "5      55027Bob  55027        Bob\n",
              "6    78551Julia  78551      Julia\n",
              "7     77268Nina  77268       Nina\n",
              "8   19876Xander  19876     Xander\n",
              "9    28290Fiona  28290      Fiona"
            ]
          },
          "execution_count": 88,
          "metadata": {},
          "output_type": "execute_result"
        }
      ],
      "source": [
        "df = pd.read_csv('separated_names.csv')\n",
        "\n",
        "df.head(10)"
      ]
    },
    {
      "cell_type": "code",
      "execution_count": 89,
      "metadata": {
        "colab": {
          "base_uri": "https://localhost:8080/"
        },
        "id": "_t-lXGnpAWOX",
        "outputId": "6afc4d8c-d016-4911-e7a3-e128ba4c6429"
      },
      "outputs": [
        {
          "data": {
            "text/plain": [
              "(100, 3)"
            ]
          },
          "execution_count": 89,
          "metadata": {},
          "output_type": "execute_result"
        }
      ],
      "source": [
        "df.shape"
      ]
    },
    {
      "cell_type": "code",
      "execution_count": 90,
      "metadata": {
        "colab": {
          "base_uri": "https://localhost:8080/"
        },
        "id": "RgZ7yrMrAV8e",
        "outputId": "3a06efc7-b716-44cc-dcac-a659cf4e8540"
      },
      "outputs": [
        {
          "data": {
            "text/plain": [
              "Index(['id', 'ID', 'First_Name'], dtype='object')"
            ]
          },
          "execution_count": 90,
          "metadata": {},
          "output_type": "execute_result"
        }
      ],
      "source": [
        "df.columns"
      ]
    },
    {
      "cell_type": "code",
      "execution_count": 91,
      "metadata": {
        "colab": {
          "base_uri": "https://localhost:8080/",
          "height": 178
        },
        "id": "iMEWGo0kAbUj",
        "outputId": "c2bafdea-6d8c-42dc-fe3b-5f2168e1079d"
      },
      "outputs": [
        {
          "data": {
            "text/plain": [
              "id            object\n",
              "ID             int64\n",
              "First_Name    object\n",
              "dtype: object"
            ]
          },
          "execution_count": 91,
          "metadata": {},
          "output_type": "execute_result"
        }
      ],
      "source": [
        "df.dtypes"
      ]
    },
    {
      "cell_type": "code",
      "execution_count": 92,
      "metadata": {
        "colab": {
          "base_uri": "https://localhost:8080/",
          "height": 178
        },
        "id": "LXKi4aj_Aj2e",
        "outputId": "aeee1562-8f85-485f-894e-85342c99bd2c"
      },
      "outputs": [
        {
          "data": {
            "text/plain": [
              "id            0\n",
              "ID            0\n",
              "First_Name    0\n",
              "dtype: int64"
            ]
          },
          "execution_count": 92,
          "metadata": {},
          "output_type": "execute_result"
        }
      ],
      "source": [
        "df.isnull().sum()"
      ]
    },
    {
      "cell_type": "code",
      "execution_count": 93,
      "metadata": {
        "colab": {
          "base_uri": "https://localhost:8080/"
        },
        "id": "ruGakswrApcZ",
        "outputId": "099880e9-772b-41b7-819f-19f14098a5a4"
      },
      "outputs": [
        {
          "data": {
            "text/plain": [
              "np.int64(0)"
            ]
          },
          "execution_count": 93,
          "metadata": {},
          "output_type": "execute_result"
        }
      ],
      "source": [
        "df.duplicated().sum()"
      ]
    },
    {
      "cell_type": "code",
      "execution_count": 94,
      "metadata": {
        "colab": {
          "base_uri": "https://localhost:8080/",
          "height": 335
        },
        "id": "gQvzOazIAybr",
        "outputId": "36ea7300-ca97-47f4-9dc7-a3af7843f76e"
      },
      "outputs": [
        {
          "data": {
            "text/plain": [
              "count      100.000000\n",
              "mean     50694.190000\n",
              "std      26500.870402\n",
              "min      11314.000000\n",
              "25%      26643.500000\n",
              "50%      44728.000000\n",
              "75%      74815.000000\n",
              "max      95807.000000\n",
              "Name: ID, dtype: float64"
            ]
          },
          "execution_count": 94,
          "metadata": {},
          "output_type": "execute_result"
        }
      ],
      "source": [
        "df['ID'].describe()"
      ]
    },
    {
      "cell_type": "code",
      "execution_count": 95,
      "metadata": {
        "colab": {
          "base_uri": "https://localhost:8080/",
          "height": 209
        },
        "id": "A9l4_jsZA9oz",
        "outputId": "6ae07967-028e-4c02-cfe8-7b343d123ced"
      },
      "outputs": [
        {
          "data": {
            "text/plain": [
              "count        100\n",
              "unique        28\n",
              "top       Sophia\n",
              "freq           8\n",
              "Name: First_Name, dtype: object"
            ]
          },
          "execution_count": 95,
          "metadata": {},
          "output_type": "execute_result"
        }
      ],
      "source": [
        "df['First_Name'].describe()"
      ]
    },
    {
      "cell_type": "markdown",
      "metadata": {
        "id": "lTFFaa0ABQOw"
      },
      "source": [
        "Part 2 – Data Cleaning"
      ]
    },
    {
      "cell_type": "code",
      "execution_count": 96,
      "metadata": {
        "colab": {
          "base_uri": "https://localhost:8080/"
        },
        "id": "Uy57RJYqBSgI",
        "outputId": "f5cb96fc-9714-4f00-c30d-321565417027"
      },
      "outputs": [
        {
          "name": "stdout",
          "output_type": "stream",
          "text": [
            "True\n"
          ]
        }
      ],
      "source": [
        "df['ID'] = df['id'].str[:5].astype(int)\n",
        "df['First_Name'] = df['id'].str[5:]\n",
        "\n",
        "df['First_Name'] = df['First_Name'].str.strip().str.title()\n",
        "\n",
        "print(df['ID'].is_unique)"
      ]
    },
    {
      "cell_type": "markdown",
      "metadata": {
        "id": "DBpuqZreDmQn"
      },
      "source": [
        "Part 3 – Exploratory Data Analysis (EDA)"
      ]
    },
    {
      "cell_type": "code",
      "execution_count": 97,
      "metadata": {
        "colab": {
          "base_uri": "https://localhost:8080/",
          "height": 771
        },
        "id": "RmEfo36eDq9z",
        "outputId": "a37a5683-ab8e-4a62-9056-aa311dfe6de7"
      },
      "outputs": [
        {
          "name": "stdout",
          "output_type": "stream",
          "text": [
            "0    Sophia\n",
            "Name: First_Name, dtype: object\n",
            "28\n",
            "31    95807\n",
            "98    94063\n",
            "1     93829\n",
            "32    92910\n",
            "84    92725\n",
            "Name: ID, dtype: int64\n",
            "11    11314\n",
            "0     12345\n",
            "97    12962\n",
            "52    13595\n",
            "27    14287\n",
            "Name: ID, dtype: int64\n"
          ]
        },
        {
          "data": {
            "image/png": "[encoded data removed]",
            "text/plain": [
              "<Figure size 640x480 with 1 Axes>"
            ]
          },
          "metadata": {},
          "output_type": "display_data"
        }
      ],
      "source": [
        "print(df['First_Name'].mode())\n",
        "\n",
        "print(df['First_Name'].nunique())\n",
        "\n",
        "print(df['ID'].nlargest(5))\n",
        "\n",
        "print(df['ID'].nsmallest(5))\n",
        "\n",
        "df['First_Name'].value_counts().head(10).plot(kind='bar')\n",
        "plt.xlabel('First Name')\n",
        "plt.ylabel('Count')\n",
        "plt.title('Top 10 First Names')\n",
        "plt.show()"
      ]
    },
    {
      "cell_type": "markdown",
      "metadata": {
        "id": "4_-82J9EFL_p"
      },
      "source": [
        "Part 4 – Statistics"
      ]
    },
    {
      "cell_type": "code",
      "execution_count": 98,
      "metadata": {
        "colab": {
          "base_uri": "https://localhost:8080/"
        },
        "id": "dVc_IJCgFOF6",
        "outputId": "01e486a6-d7cc-4650-eaca-9e7891f75ed3"
      },
      "outputs": [
        {
          "name": "stdout",
          "output_type": "stream",
          "text": [
            "Mean :  50694.19\n",
            "Median :  44728.0\n",
            "Variance :  702296132.0746465\n",
            "Standard Deviation :  26500.870402208424\n",
            "P(ID > 50000):  0.45\n",
            "P(Name starts with A):  0.04\n",
            "percentage of Names > 5 letters:  33.0\n"
          ]
        }
      ],
      "source": [
        "print(\"Mean : \",df['ID'].mean())\n",
        "\n",
        "print(\"Median : \",df['ID'].median())\n",
        "\n",
        "print(\"Variance : \",df['ID'].var())\n",
        "\n",
        "print(\"Standard Deviation : \",df['ID'].std())\n",
        "\n",
        "print(\"P(ID > 50000): \", (df['ID'] > 50000).mean())\n",
        "\n",
        "print(\"P(Name starts with A): \", df['First_Name'].str.startswith(\"A\").mean())\n",
        "\n",
        "print(\"percentage of Names > 5 letters: \", (df['First_Name'].str.len() > 5).mean() * 100)"
      ]
    },
    {
      "cell_type": "markdown",
      "metadata": {
        "id": "j77hNCiFGeRt"
      },
      "source": [
        "Part 5 – Linear Algebra & NumPy"
      ]
    },
    {
      "cell_type": "code",
      "execution_count": 99,
      "metadata": {
        "colab": {
          "base_uri": "https://localhost:8080/"
        },
        "id": "bg5O07NnGgTY",
        "outputId": "9a6e6dab-707b-496d-9a3b-46f7e7a35734"
      },
      "outputs": [
        {
          "name": "stdout",
          "output_type": "stream",
          "text": [
            "Addition: [12427 93869 20488 29338 43616 55079 78560 77340 19898 28300 38977 11396\n",
            " 90422 79624 25799 31832 34171 47749 31480 27564 15381 87391 87508 18402\n",
            " 19073 20320 82771 14317 92070 70811 17560 95898 92923 36399 15162 58173\n",
            " 72537 61864 45623 42192 81638 26656 53364 73730 66449 90101 46884 90404\n",
            " 62402 75001 24480 40025 13679 66344 36528 81749 46491 22491 81781 82153\n",
            " 22231 63402 60441 60670 32870 26730 65301 36905 43042 32566 25260 65288\n",
            " 88578 89484 17563 41422 27513 17408 25038 39297 40233 22367 71144 58299\n",
            " 92790 16152 36904 87927 74860 85459 43973 89702 49958 42893 68609 58423\n",
            " 43046 13058 94154 17143]\n",
            "Subtraction: [12263 93789 20294 29310 43498 54975 78542 77196 19854 28280 38805 11232\n",
            " 90290 79520 25629 31796 34097 47559 31408 27488 15197 87243 87442 18258\n",
            " 18921 20162 82573 14257 92012 70631 17508 95716 92897 36313 15090 57991\n",
            " 72361 61696 45443 42078 81448 26634 53214 73574 66279 90095 46756 90342\n",
            " 62326 74821 24380 39887 13511 66284 36520 81575 46325 22451 81779 82105\n",
            " 22139 63218 60417 60504 32778 26548 65215 36767 42898 32556 25128 65236\n",
            " 88576 89448 17557 41354 27411 17238 24996 39277 40067 22317 71046 58147\n",
            " 92660 15994 36820 87839 74706 85431 43873 89686 49862 42769 68419 58353\n",
            " 43006 12866 93972 17067]\n",
            "Dot Product: 267342363\n",
            "Matrix Multiplication Result: [ 3760.9 28176.7  6185.2  8807.  13108.4 16544.5 23571.6 23230.8  5978.2\n",
            "  8494.  11727.5  3451.6 27153.  23908.   7773.7  9556.8 10266.1 14362.7\n",
            "  9458.4  8284.4  4651.1 26246.9 26265.6  5549.4  5752.3  6127.6 24870.9\n",
            "  4307.1 27632.6 21279.3  5278.4 28805.8 27882.1 10936.9  4563.  17488.3\n",
            " 21796.3 18592.8 13722.9 12680.4 24529.4  8001.2 16039.2 22150.2 19968.7\n",
            " 27031.5 14090.8 27133.6 18735.8 22536.3  7364.  12035.1  4137.3 19915.2\n",
            " 10960.  24559.5 13980.5  6755.3 24534.7 24655.5  6687.7 19057.4 18137.1\n",
            " 18234.2  9879.4  8055.4 19607.5 11099.1 12941.4  9771.8  7604.4 19596.8\n",
            " 26573.8 26852.4  5270.1 12440.2  8274.3  5256.4  7519.8 11793.1 12103.1\n",
            "  6720.1 21362.8 17520.1 27863.   4877.2 11088.  26395.7 22488.8 25643.3\n",
            " 13211.9 26913.8 15006.6 12892.7 20620.7 17540.9 12921.8  3955.8 28282.6\n",
            "  5158.1]\n"
          ]
        }
      ],
      "source": [
        "ID_array = df['ID'].to_numpy()\n",
        "\n",
        "score_array = np.random.randint(1, 100, size=len(df))\n",
        "\n",
        "print(\"Addition:\", ID_array + score_array)\n",
        "print(\"Subtraction:\", ID_array - score_array)\n",
        "\n",
        "print(\"Dot Product:\", np.dot(ID_array, score_array))\n",
        "\n",
        "features = np.column_stack((ID_array, score_array))\n",
        "weights = np.array([0.3, 0.7])\n",
        "result = features @ weights\n",
        "print(\"Matrix Multiplication Result:\", result)"
      ]
    },
    {
      "cell_type": "markdown",
      "metadata": {
        "id": "Npr1PtoAKzZd"
      },
      "source": [
        "Part 6 – Feature Engineering"
      ]
    },
    {
      "cell_type": "code",
      "execution_count": 100,
      "metadata": {
        "colab": {
          "base_uri": "https://localhost:8080/"
        },
        "id": "fPSqLEbEK1vU",
        "outputId": "63869e23-f202-47ee-fd9f-ecece2412c69"
      },
      "outputs": [
        {
          "name": "stdout",
          "output_type": "stream",
          "text": [
            "0     6\n",
            "1     5\n",
            "2     5\n",
            "3     7\n",
            "4     4\n",
            "     ..\n",
            "95    3\n",
            "96    5\n",
            "97    5\n",
            "98    3\n",
            "99    7\n",
            "Name: Name_Length, Length: 100, dtype: int64\n",
            "0     0\n",
            "1     0\n",
            "2     0\n",
            "3     0\n",
            "4     0\n",
            "     ..\n",
            "95    1\n",
            "96    1\n",
            "97    0\n",
            "98    1\n",
            "99    0\n",
            "Name: Starts_With_Vowel, Length: 100, dtype: int64\n",
            "0     0\n",
            "1     1\n",
            "2     0\n",
            "3     0\n",
            "4     0\n",
            "     ..\n",
            "95    1\n",
            "96    0\n",
            "97    0\n",
            "98    1\n",
            "99    0\n",
            "Name: High_ID, Length: 100, dtype: int64\n",
            "0     1\n",
            "1     0\n",
            "2     0\n",
            "3     2\n",
            "4     0\n",
            "     ..\n",
            "95    0\n",
            "96    0\n",
            "97    0\n",
            "98    0\n",
            "99    2\n",
            "Name: Length_Quartile, Length: 100, dtype: int64\n"
          ]
        }
      ],
      "source": [
        "df['Name_Length'] = df['First_Name'].str.len()\n",
        "print(df['Name_Length'])\n",
        "\n",
        "df['Starts_With_Vowel'] = df['First_Name'].fillna('').str[0].str.upper().isin(['A','E','I','O','U']).astype(int)\n",
        "print(df['Starts_With_Vowel'])\n",
        "\n",
        "df['High_ID'] = (df['ID'] > 50000).astype(int)\n",
        "print(df['High_ID'])\n",
        "\n",
        "df['Length_Quartile'] = pd.qcut(df['Name_Length'], 4, labels=False, duplicates='drop')\n",
        "print(df['Length_Quartile'])"
      ]
    },
    {
      "cell_type": "markdown",
      "metadata": {
        "id": "Kq59z5t9OG9s"
      },
      "source": [
        "Part 7 – SQL Simulation in Pandas"
      ]
    },
    {
      "cell_type": "code",
      "execution_count": 101,
      "metadata": {
        "colab": {
          "base_uri": "https://localhost:8080/"
        },
        "id": "Ix2ghMtxOKGU",
        "outputId": "5eee769e-b36e-41f3-acd2-faa5f09660af"
      },
      "outputs": [
        {
          "name": "stdout",
          "output_type": "stream",
          "text": [
            "            id     ID First_Name  Name_Length  Starts_With_Vowel  High_ID  \\\n",
            "35    58082Uma  58082        Uma            3                  1        1   \n",
            "37  61780Ethan  61780      Ethan            5                  1        1   \n",
            "72  88577Ethan  88577      Ethan            5                  1        1   \n",
            "73  89466Ethan  89466      Ethan            5                  1        1   \n",
            "95    58388Ian  58388        Ian            3                  1        1   \n",
            "98    94063Uma  94063        Uma            3                  1        1   \n",
            "\n",
            "    Length_Quartile  \n",
            "35                0  \n",
            "37                0  \n",
            "72                0  \n",
            "73                0  \n",
            "95                0  \n",
            "98                0  \n",
            "       ID First_Name\n",
            "31  95807     Xander\n",
            "98  94063        Uma\n",
            "1   93829      Sally\n",
            "32  92910     Sophia\n",
            "84  92725       Nina\n",
            "28  92041     Sophia\n",
            "47  90373    Michael\n",
            "12  90356      Paula\n",
            "45  90098     Hannah\n",
            "91  89694      Fiona\n",
            "Starts_With_Vowel\n",
            "0    83\n",
            "1    17\n",
            "dtype: int64\n",
            "       ID First_Name  Name_Length\n",
            "99  17105    Charlie            7\n",
            "77  17323    Charlie            7\n",
            "30  17534    Charlie            7\n",
            "3   29324    Valerie            7\n",
            "18  31444    Charlie            7\n",
            "..    ...        ...          ...\n",
            "95  58388        Ian            3\n",
            "66  65258        Bob            3\n",
            "71  65262        Bob            3\n",
            "21  87317        Bob            3\n",
            "98  94063        Uma            3\n",
            "\n",
            "[100 rows x 3 columns]\n"
          ]
        }
      ],
      "source": [
        "vowel_highID = df[(df['Starts_With_Vowel'] == 1) & (df['High_ID'] == 1)]\n",
        "print(vowel_highID)\n",
        "\n",
        "top_10_IDs = df.sort_values('ID', ascending=False).head(10)\n",
        "print(top_10_IDs[['ID', 'First_Name']])\n",
        "\n",
        "group_count = df.groupby('Starts_With_Vowel').size()\n",
        "print(group_count)\n",
        "\n",
        "sorted_df = df.sort_values(['Name_Length', 'ID'], ascending=[False, True])\n",
        "print(sorted_df[['ID','First_Name','Name_Length']])"
      ]
    },
    {
      "cell_type": "markdown",
      "metadata": {
        "id": "5a4MZdNsP1jG"
      },
      "source": [
        "Part 8 – Insights"
      ]
    },
    {
      "cell_type": "code",
      "execution_count": 102,
      "metadata": {
        "colab": {
          "base_uri": "https://localhost:8080/",
          "height": 646
        },
        "id": "zbpZuG6qP3tO",
        "outputId": "43c55a98-6fd3-4f6d-fc59-2421f06e975d"
      },
      "outputs": [
        {
          "name": "stdout",
          "output_type": "stream",
          "text": [
            "Most Frequent Name: Sophia\n",
            "Average ID: 50694.19\n",
            "Correlation (ID vs Name_Length): -0.02587516459648293\n",
            "Trend: No clear relationship between ID size and name length\n",
            "Quartile with longest average IDs: 1\n"
          ]
        }
      ],
      "source": [
        "print(\"Most Frequent Name:\", df['First_Name'].mode()[0])\n",
        "\n",
        "print(\"Average ID:\", df['ID'].mean())\n",
        "\n",
        "corr = df['ID'].corr(df['Name_Length'])\n",
        "print(\"Correlation (ID vs Name_Length):\", corr)\n",
        "if corr > 0.3:\n",
        "    print(\"Trend: Positive → Larger IDs tend to have longer names\")\n",
        "elif corr < -0.3:\n",
        "    print(\"Trend: Negative → Larger IDs tend to have shorter names\")\n",
        "else:\n",
        "    print(\"Trend: No clear relationship between ID size and name length\")\n",
        "\n",
        "print(\"Quartile with longest average IDs:\", df.groupby('Length_Quartile')['ID'].mean().idxmax())"
      ]
    }
  ],
  "metadata": {
    "colab": {
      "provenance": []
    },
    "kernelspec": {
      "display_name": "Python 3",
      "name": "python3"
    },
    "language_info": {
      "codemirror_mode": {
        "name": "ipython",
        "version": 3
      },
      "file_extension": ".py",
      "mimetype": "text/x-python",
      "name": "python",
      "nbconvert_exporter": "python",
      "pygments_lexer": "ipython3",
      "version": "3.10.18"
    }
  },
  "nbformat": 4,
  "nbformat_minor": 0
}
